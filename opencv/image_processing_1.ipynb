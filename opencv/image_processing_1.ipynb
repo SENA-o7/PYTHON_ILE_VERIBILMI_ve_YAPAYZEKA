{
 "cells": [
  {
   "cell_type": "code",
   "execution_count": 1,
   "id": "db6ae391-8c1b-40d2-b98b-368d984995bf",
   "metadata": {},
   "outputs": [
    {
     "name": "stdout",
     "output_type": "stream",
     "text": [
      "Requirement already satisfied: opencv-python in c:\\users\\ozsen\\anaconda3\\lib\\site-packages (4.11.0.86)\n",
      "Requirement already satisfied: numpy>=1.21.2 in c:\\users\\ozsen\\anaconda3\\lib\\site-packages (from opencv-python) (1.26.4)\n",
      "Note: you may need to restart the kernel to use updated packages.\n"
     ]
    }
   ],
   "source": [
    "pip install opencv-python"
   ]
  },
  {
   "cell_type": "code",
   "execution_count": 2,
   "id": "6c12aa91-beb2-4217-841f-c89ce07edfd0",
   "metadata": {},
   "outputs": [],
   "source": [
    "import cv2\n",
    "import numpy as np #pixellerden oluşan resimlerde matrix,array işlemlerini yönetmek için\n"
   ]
  },
  {
   "cell_type": "code",
   "execution_count": 3,
   "id": "7c495d8a-4aa5-4095-a878-d4d891593e34",
   "metadata": {},
   "outputs": [],
   "source": [
    "#GÖRSEL OKUMA VE GÖSTERME-1\n",
    "image=cv2.imread(\"papagan.jpg\",1)# #-1(alfa kanalı) 0(gri) 1(varsayılan) değerleirni girebilirsin\n",
    "cv2.imshow (\"papagan\",image)\n",
    "cv2.waitKey(0) # 0 yerine ms cinsinden saniye de yazabilriz 0 yazarsak bir tuşa basana kadar açık kalır\n",
    "cv2.destroyAllWindows()"
   ]
  },
  {
   "cell_type": "code",
   "execution_count": 4,
   "id": "6e4c7615-e359-43c3-a6a4-f34a02bbfb2e",
   "metadata": {
    "editable": true,
    "slideshow": {
     "slide_type": ""
    },
    "tags": []
   },
   "outputs": [],
   "source": [
    "#GÖRSEL OKUMA VE GÖSTERME-2\n",
    "gri_image=cv2.cvtColor(image,cv2.COLOR_BGR2GRAY)\n",
    "cv2.imshow (\" gri papagan\",gri_image)\n",
    "cv2.imwrite(\"gri_papagan.png\",gri_image) #kaydetme işlemi\n",
    "cv2.waitKey(0) \n",
    "cv2.destroyAllWindows()\n"
   ]
  },
  {
   "cell_type": "code",
   "execution_count": 5,
   "id": "25d6088a-59a2-45c9-a16b-35bda7511d91",
   "metadata": {},
   "outputs": [],
   "source": [
    "#GÖRÜNTÜ İŞLEME-1\n",
    "resize_image =cv2.resize(image, (300, 700))#yeniden boyutlandırma\n",
    "cv2.imshow(\"Yeniden Boyutlanmış\", resize_image)\n",
    "\n",
    "rotate_image = cv2.rotate(resize_image, cv2.ROTATE_180)# döndürme işlemi\n",
    "cv2.imshow(\"Döndürülmüş\", rotate_image)\n",
    "\n",
    "cv2.waitKey(0)\n",
    "cv2.destroyAllWindows()\n",
    "\n",
    "simetrik_image=cv2.flip(image,-1)#simetrisini alır 1 ayna görüntüsü (yatay) 0 dikey olarak alır\n",
    "cv2.imshow (\"simetrik\",simetrik_image)\n",
    "cv2.waitKey(0)\n",
    "cv2.destroyAllWindows()\n"
   ]
  },
  {
   "cell_type": "code",
   "execution_count": 6,
   "id": "8c34ffa9-5471-4408-82f7-cbe73b7b55eb",
   "metadata": {},
   "outputs": [],
   "source": [
    "#GÖRÜNTÜ İŞLEME-2\n",
    "image=cv2.imread(\"papagan.jpg\",1)\n",
    "cv2.rectangle(image,(10,10),(278,100),(179,8,214),2)# sol üst ve sağ alt kordinatları,renk,pixel\n",
    "cv2.putText(image, \"Guzel Papagan.\", (12,45 ), cv2.FONT_ITALIC, 1, (119, 20, 4), 1)\n",
    "cv2.imshow (\"pembe\",image)\n",
    "cv2.waitKey(0)\n",
    "cv2.destroyAllWindows()\n",
    "\n",
    "_, thresh = cv2.threshold(image, 100, 255, cv2.THRESH_BINARY) #belirli eşik değerlerine göre sınıflar \n",
    "#cv2.THRESH_BINARY_INV=tam tersi sınıflar\n",
    "#cv2.THRESH_TRUNC=127'nin üstündeki pikseller 127'ye sabitlenir, altındakiler aynı kalır.\n",
    "#cv2.THRESH_TOZERO_INV =127'nin altındaki pikseller aynı kalır, üstündekiler 0 olur.\n",
    "\n",
    "cv2.imshow(\"Esiklenmis\", thresh)\n",
    "cv2.waitKey(0)\n",
    "cv2.destroyAllWindows()\n",
    "\n",
    "\n"
   ]
  },
  {
   "cell_type": "code",
   "execution_count": 12,
   "id": "7ad3eab3-176b-4e0f-83d6-d283b3198cb9",
   "metadata": {},
   "outputs": [],
   "source": [
    "#GÖRÜNTÜ İŞLEME-3\n",
    "image=cv2.imread(\"papagan.jpg\",0)\n",
    "_, thresh = cv2.threshold(image, 100, 255, cv2.THRESH_BINARY)\n",
    "kernel = np.ones((5,5), np.uint8)\n",
    "cv2.imshow(\"Orijinal\", image)\n",
    "cv2.imshow(\"esiklenmis\", thresh)\n",
    "cv2.waitKey(0)\n",
    "cv2.destroyAllWindows()\n",
    "\n",
    "erozyon = cv2.erode(thresh, kernel, iterations=1)# beyaz bölgeleri küçültür ve gürültüyü azaltır.Küçük beyaz noktalar kaybolur.\n",
    "cv2.imshow(\"Erozyon\", erozyon)\n",
    "cv2.waitKey(0)\n",
    "cv2.destroyAllWindows()\n",
    "\n",
    "genisletme = cv2.dilate(thresh, kernel, iterations=1)#beyaz alanları büyütür .Küçük siyah noktalar kaybolur.\n",
    "cv2.imshow(\"Dilation\", genisletme)\n",
    "cv2.waitKey(0)\n",
    "cv2.destroyAllWindows()\n"
   ]
  },
  {
   "cell_type": "code",
   "execution_count": 15,
   "id": "27771e0d-5933-44e6-b390-8c1aec54f75d",
   "metadata": {},
   "outputs": [],
   "source": [
    "#Filtreleme ve Kenar Algılama-1\n",
    "image=cv2.imread(\"papagan.jpg\",1)\n",
    "bulanık_image=blurred_image = cv2.GaussianBlur(image, (15, 15), 0)\n",
    "cv2.imshow (\"Bulanık\",image)\n",
    "cv2.waitKey(0)\n",
    "cv2.destroyAllWindows()\n"
   ]
  },
  {
   "cell_type": "code",
   "execution_count": 17,
   "id": "864fe5e6-c58d-4f93-b3c8-9b76bc27681e",
   "metadata": {},
   "outputs": [],
   "source": [
    "#Filtreleme ve Kenar Algılama-3\n",
    "image=cv2.imread(\"papagan.jpg\",0)\n",
    "kenarlı_image=cv2.Canny(image,100,200)\n",
    "#eşik değerinden küçük olanları kenar olarak almaz max'tan büyük olanları güçlü kenar olarak algılar .Arasında kalnlarıda güçlü kenara yakınsa kenar kabul eder.\n",
    "cv2.imshow(\"Kenar Algilama\", kenarlı_image)\n",
    "cv2.waitKey(0)\n",
    "cv2.destroyAllWindows()\n"
   ]
  },
  {
   "cell_type": "code",
   "execution_count": null,
   "id": "0e906de0-b7f0-4c36-81db-666cbab0b23f",
   "metadata": {},
   "outputs": [],
   "source": []
  }
 ],
 "metadata": {
  "kernelspec": {
   "display_name": "Python 3 (ipykernel)",
   "language": "python",
   "name": "python3"
  },
  "language_info": {
   "codemirror_mode": {
    "name": "ipython",
    "version": 3
   },
   "file_extension": ".py",
   "mimetype": "text/x-python",
   "name": "python",
   "nbconvert_exporter": "python",
   "pygments_lexer": "ipython3",
   "version": "3.12.7"
  }
 },
 "nbformat": 4,
 "nbformat_minor": 5
}
