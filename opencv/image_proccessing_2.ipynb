{
 "cells": [
  {
   "cell_type": "code",
   "execution_count": 1,
   "id": "0c8f440a-77a0-4025-ae8d-0215ab43a06c",
   "metadata": {},
   "outputs": [
    {
     "name": "stdout",
     "output_type": "stream",
     "text": [
      "Requirement already satisfied: opencv-python in c:\\users\\ozsen\\anaconda3\\lib\\site-packages (4.11.0.86)\n",
      "Requirement already satisfied: numpy>=1.21.2 in c:\\users\\ozsen\\anaconda3\\lib\\site-packages (from opencv-python) (1.26.4)\n",
      "Note: you may need to restart the kernel to use updated packages.\n"
     ]
    }
   ],
   "source": [
    "pip install opencv-python"
   ]
  },
  {
   "cell_type": "code",
   "execution_count": 2,
   "id": "758cd9a5-c01e-4e9f-ab0d-49762591b894",
   "metadata": {},
   "outputs": [],
   "source": [
    "import cv2\n",
    "import numpy as np #pixellerden oluşan resimlerde matrix,array işlemlerini yönetmek için"
   ]
  },
  {
   "cell_type": "code",
   "execution_count": 3,
   "id": "fc8c36c4-411c-4c62-b5d7-7bff46965b0a",
   "metadata": {},
   "outputs": [],
   "source": [
    "image=cv2.imread(\"arkadaslar_1.jpg\")\n",
    "if image is None:\n",
    " print(\"Gorsel Yuklenmedi!!\")\n",
    "    # Maskeleme ve Segmentasyon\n",
    "#Maskeleme işlemi yaparken hsv formatına çevirmeliyiz #renk tabanlı eşikleme \n",
    "hsv=cv2.cvtColor(image,cv2.COLOR_BGR2HSV)\n",
    "lower_skin=np.array([0, 30, 60])\n",
    "upper_skin=np.array([20, 150, 255])\n",
    "mask= cv2.inRange(hsv,lower_skin,upper_skin)\n",
    "cv2.imshow(\"Maskeleme \", mask)\n",
    "cv2.waitKey(0)\n",
    "cv2.destroyAllWindows()\n",
    "\n",
    "segmented=cv2.bitwise_and(image,image,mask=mask)# segmentasyon bazı renkleri içeren alanları ayıklar\n",
    "cv2.imshow(\"segmente eder\", segmented)\n",
    "cv2.waitKey(0)\n",
    "cv2.destroyAllWindows()\n",
    "\n",
    "#Kontur\n",
    "kontur,_=cv2.findContours(mask,cv2.RETR_TREE,cv2.CHAIN_APPROX_SIMPLE)\n",
    "#RETR_TREE iç içe geçenleri yakalar\n",
    "#CHAIN_APPROX_SIMPLE konturleri sadeleştirir\n",
    "\n",
    "kontur_image = image.copy()\n",
    "cv2.drawContours(kontur_image, kontur, -1, (78, 226, 9), 2)\n",
    "cv2.imshow(\"Kontur\",kontur_image)\n",
    "cv2.waitKey(0)\n",
    "cv2.destroyAllWindows()\n",
    "\n",
    "\n"
   ]
  },
  {
   "cell_type": "code",
   "execution_count": 4,
   "id": "fde4d320-0fea-4d6e-95c6-a8171e715534",
   "metadata": {},
   "outputs": [],
   "source": [
    "#Yüz Algılama\n",
    "# Hazır Haarcascade modelini yükleme\n",
    "face_cascade = cv2.CascadeClassifier(cv2.data.haarcascades + 'haarcascade_frontalface_default.xml')\n",
    "\n",
    "#Haar Cascade renkli görüntülerde iyi çalışmaz. O yüzden, görüntüyü gri tonlamaya çevirmeliyiz.\n",
    "gri = cv2.cvtColor(image, cv2.COLOR_BGR2GRAY)  # Gri tonlamaya çevir\n",
    "faces = face_cascade.detectMultiScale(gri, 1.1, 4) \n",
    "#1.1: Yüzleri ölçeklendirme faktörü. Küçük yüzleri de yakalayabilmek için 1.1 önerilir.\n",
    "#4: En az 4 dikdörtgenin eşleşmesi gerektiğini belirtir.\n",
    "\n",
    "face_image = image.copy()\n",
    "for (x, y, w, h) in faces:\n",
    "    cv2.rectangle(face_image, (x, y), (x + w, y + h), (8, 114, 219), 2)  \n",
    "cv2.imshow(\"Yuz Tespiti\",face_image)\n",
    "cv2.waitKey(0)\n",
    "cv2.destroyAllWindows()    \n",
    "\n"
   ]
  },
  {
   "cell_type": "code",
   "execution_count": null,
   "id": "31baff2b-9f79-4b24-9834-bd8b015689e8",
   "metadata": {},
   "outputs": [],
   "source": []
  }
 ],
 "metadata": {
  "kernelspec": {
   "display_name": "Python 3 (ipykernel)",
   "language": "python",
   "name": "python3"
  },
  "language_info": {
   "codemirror_mode": {
    "name": "ipython",
    "version": 3
   },
   "file_extension": ".py",
   "mimetype": "text/x-python",
   "name": "python",
   "nbconvert_exporter": "python",
   "pygments_lexer": "ipython3",
   "version": "3.12.7"
  }
 },
 "nbformat": 4,
 "nbformat_minor": 5
}
