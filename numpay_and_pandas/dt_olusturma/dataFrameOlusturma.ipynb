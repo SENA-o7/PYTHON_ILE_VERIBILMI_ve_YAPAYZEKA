{
 "cells": [
  {
   "cell_type": "code",
   "execution_count": 1,
   "id": "74b67926-1459-470d-aee0-808a0a288fd9",
   "metadata": {},
   "outputs": [
    {
     "name": "stdout",
     "output_type": "stream",
     "text": [
      "     İsim  Yaş  Maaş\n",
      "0    Veli   25  5000\n",
      "1    Ayşe   30  6000\n",
      "2  Mehmet   22  4500\n",
      "3   Betül   27  5200\n",
      "----------------------------\n",
      "Ortalama Yaş: 26.0\n",
      "----------------------------\n",
      "Ortalama Maaş: 5175.0\n",
      "----------------------------\n",
      "Maaşı 5000 büyük olan:\n",
      "     İsim  Yaş  Maaş\n",
      "1   Ayşe   30  6000\n",
      "3  Betül   27  5200\n",
      "----------------------------\n",
      "Yaşa göre sıralama:      İsim  Yaş  Maaş\n",
      "2  Mehmet   22  4500\n",
      "0    Veli   25  5000\n",
      "3   Betül   27  5200\n",
      "1    Ayşe   30  6000\n"
     ]
    }
   ],
   "source": [
    "import pandas as pd\n",
    "data={\n",
    "    \"İsim\":[\"Veli\",\"Ayşe\",\"Mehmet\",\"Betül\"],\n",
    "    \"Yaş\":[25,30,22,27],\n",
    "    \"Maaş\":[5000,6000,4500,5200]\n",
    "}\n",
    "df=pd.DataFrame(data)\n",
    "print(df)\n",
    "\n",
    "mean_yas=df[\"Yaş\"].mean()\n",
    "mean_maas=df[\"Maaş\"].mean()\n",
    "sort_yas=df.sort_values(by=\"Yaş\")\n",
    "\n",
    "print(\"----------------------------\")\n",
    "print(\"Ortalama Yaş:\", mean_yas)\n",
    "print(\"----------------------------\")\n",
    "print(\"Ortalama Maaş:\", mean_maas)\n",
    "print(\"----------------------------\")\n",
    "print(\"Maaşı 5000 büyük olan:\\n\", df[df[\"Maaş\"]>5000])\n",
    "print(\"----------------------------\")\n",
    "print(\"Yaşa göre sıralama:\", sort_yas)\n"
   ]
  },
  {
   "cell_type": "code",
   "execution_count": null,
   "id": "e03acd6a-4910-4d58-aac3-39acc4af2b14",
   "metadata": {},
   "outputs": [],
   "source": []
  }
 ],
 "metadata": {
  "kernelspec": {
   "display_name": "Python [conda env:base] *",
   "language": "python",
   "name": "conda-base-py"
  },
  "language_info": {
   "codemirror_mode": {
    "name": "ipython",
    "version": 3
   },
   "file_extension": ".py",
   "mimetype": "text/x-python",
   "name": "python",
   "nbconvert_exporter": "python",
   "pygments_lexer": "ipython3",
   "version": "3.12.7"
  }
 },
 "nbformat": 4,
 "nbformat_minor": 5
}
