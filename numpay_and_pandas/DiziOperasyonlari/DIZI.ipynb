{
 "cells": [
  {
   "cell_type": "code",
   "execution_count": 1,
   "id": "9a705cfe-1cde-4757-b295-7fbf83afad21",
   "metadata": {},
   "outputs": [
    {
     "name": "stdout",
     "output_type": "stream",
     "text": [
      "Array:\n",
      "  [ 1  6 11 17 22 28 33 39 44 50]\n",
      "------------------- \n",
      "Mean:\n",
      "  25.1\n",
      "------------------- \n",
      "STD.:\n",
      "  15.687255974197654\n",
      "------------------- \n",
      "Square Array:\n",
      "  [   1   36  121  289  484  784 1089 1521 1936 2500]\n",
      "------------------- \n",
      "25> Array:\n",
      "  [ 6 11 17 22 28 33 39 44 50]\n",
      "------------------- \n",
      "25> Array:\n",
      "  [28 33 39 44 50]\n"
     ]
    }
   ],
   "source": [
    "import numpy as np\n",
    "myarray = np.linspace(1, 50, 10).astype(int)\n",
    "#np.arange(1,51,10) belirli adımda tam sayı aralığını direkt oluşturur fakat 10 eleman istenmesinde doğru ayarlanmalıdır\n",
    "mean=np.mean(myarray)\n",
    "std=np.std(myarray)\n",
    "square=np.square(myarray)\n",
    "filter=myarray[np.where(square > 25)]\n",
    "filter2=myarray[np.where(myarray > 25)]\n",
    "\n",
    "print(\"Array:\\n \",myarray)\n",
    "print(\"------------------- \")\n",
    "print(\"Mean:\\n \",mean)\n",
    "print(\"------------------- \")\n",
    "print(\"STD.:\\n \",std)\n",
    "print(\"------------------- \")\n",
    "print(\"Square Array:\\n \",square)\n",
    "print(\"------------------- \")\n",
    "print(\"25> Array:\\n \",filter)\n",
    "print(\"------------------- \")\n",
    "print(\"25> Array:\\n \",filter2)"
   ]
  },
  {
   "cell_type": "code",
   "execution_count": null,
   "id": "d4ef4571-c413-456d-8eff-170379114c2f",
   "metadata": {},
   "outputs": [],
   "source": []
  }
 ],
 "metadata": {
  "kernelspec": {
   "display_name": "Python [conda env:base] *",
   "language": "python",
   "name": "conda-base-py"
  },
  "language_info": {
   "codemirror_mode": {
    "name": "ipython",
    "version": 3
   },
   "file_extension": ".py",
   "mimetype": "text/x-python",
   "name": "python",
   "nbconvert_exporter": "python",
   "pygments_lexer": "ipython3",
   "version": "3.12.7"
  }
 },
 "nbformat": 4,
 "nbformat_minor": 5
}
