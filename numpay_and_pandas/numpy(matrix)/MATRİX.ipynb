{
 "cells": [
  {
   "cell_type": "code",
   "execution_count": null,
   "id": "3fa6cca3-7e23-4e3d-a169-e55ed4cb4634",
   "metadata": {},
   "outputs": [],
   "source": [
    "import numpy as np\n",
    "matrix=np.random.randint(1,10,size=(3,3))\n",
    "tmatrix=matrix.T\n",
    "dmatrix=np.linalg.det(matrix)\n",
    "matrix_carpma=matrix*2\n",
    "\n",
    "print(\"Asıl matrix:\\n\",matrix)\n",
    "print(\"---------------------\")\n",
    "print(\"Transpose matrix:\\n \",tmatrix)\n",
    "print(\"---------------------\")\n",
    "print(\"Determinant:\\n \",dmatrix)\n",
    "print(\"---------------------\")\n",
    "print(\"2 ile çarpılmış matrix:\\n\",matrix_carpma)"
   ]
  }
 ],
 "metadata": {
  "kernelspec": {
   "display_name": "",
   "name": ""
  },
  "language_info": {
   "name": ""
  }
 },
 "nbformat": 4,
 "nbformat_minor": 5
}
