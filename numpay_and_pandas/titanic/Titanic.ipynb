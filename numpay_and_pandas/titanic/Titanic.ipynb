{
 "cells": [
  {
   "cell_type": "code",
   "execution_count": 4,
   "id": "698ee587-e921-4380-9280-41cdc3c842d7",
   "metadata": {},
   "outputs": [
    {
     "name": "stdout",
     "output_type": "stream",
     "text": [
      "___________İLK 10 SATIR:___________\n",
      "    PassengerId  Survived  Pclass  \\\n",
      "0            1         0       3   \n",
      "1            2         1       1   \n",
      "2            3         1       3   \n",
      "3            4         1       1   \n",
      "4            5         0       3   \n",
      "5            6         0       3   \n",
      "6            7         0       1   \n",
      "7            8         0       3   \n",
      "8            9         1       3   \n",
      "9           10         1       2   \n",
      "\n",
      "                                                Name     Sex   Age  SibSp  \\\n",
      "0                            Braund, Mr. Owen Harris    male  22.0      1   \n",
      "1  Cumings, Mrs. John Bradley (Florence Briggs Th...  female  38.0      1   \n",
      "2                             Heikkinen, Miss. Laina  female  26.0      0   \n",
      "3       Futrelle, Mrs. Jacques Heath (Lily May Peel)  female  35.0      1   \n",
      "4                           Allen, Mr. William Henry    male  35.0      0   \n",
      "5                                   Moran, Mr. James    male   NaN      0   \n",
      "6                            McCarthy, Mr. Timothy J    male  54.0      0   \n",
      "7                     Palsson, Master. Gosta Leonard    male   2.0      3   \n",
      "8  Johnson, Mrs. Oscar W (Elisabeth Vilhelmina Berg)  female  27.0      0   \n",
      "9                Nasser, Mrs. Nicholas (Adele Achem)  female  14.0      1   \n",
      "\n",
      "   Parch            Ticket     Fare Cabin Embarked  \n",
      "0      0         A/5 21171   7.2500   NaN        S  \n",
      "1      0          PC 17599  71.2833   C85        C  \n",
      "2      0  STON/O2. 3101282   7.9250   NaN        S  \n",
      "3      0            113803  53.1000  C123        S  \n",
      "4      0            373450   8.0500   NaN        S  \n",
      "5      0            330877   8.4583   NaN        Q  \n",
      "6      0             17463  51.8625   E46        S  \n",
      "7      1            349909  21.0750   NaN        S  \n",
      "8      2            347742  11.1333   NaN        S  \n",
      "9      0            237736  30.0708   NaN        C  \n"
     ]
    }
   ],
   "source": [
    "import pandas as pd\n",
    "data = pd.read_csv(\"titanic.csv\")\n",
    "print(\"___________İLK 10 SATIR:___________\\n\",data.head(10))\n"
   ]
  },
  {
   "cell_type": "code",
   "execution_count": 6,
   "id": "ef782692-fe21-4b57-9a09-fc489b657d4d",
   "metadata": {},
   "outputs": [
    {
     "name": "stdout",
     "output_type": "stream",
     "text": [
      "\n",
      "Eksik veri var mı?:\n",
      "True\n"
     ]
    }
   ],
   "source": [
    "print(\"\\nEksik veri var mı?:\")\n",
    "print(data.isnull().values.any())"
   ]
  },
  {
   "cell_type": "code",
   "execution_count": 19,
   "id": "2468733d-25b2-449a-bfcd-6c808ac50419",
   "metadata": {},
   "outputs": [
    {
     "name": "stdout",
     "output_type": "stream",
     "text": [
      "\n",
      "Hangi değişkenlerde kaçtane eksik veri var?:\n",
      "PassengerId      0\n",
      "Survived         0\n",
      "Pclass           0\n",
      "Name             0\n",
      "Sex              0\n",
      "Age            177\n",
      "SibSp            0\n",
      "Parch            0\n",
      "Ticket           0\n",
      "Fare             0\n",
      "Cabin          687\n",
      "Embarked         2\n",
      "dtype: int64\n"
     ]
    }
   ],
   "source": [
    "print(\"\\nHangi değişkenlerde kaçtane eksik veri var?:\")\n",
    "print(data.isnull().sum())\n"
   ]
  },
  {
   "cell_type": "code",
   "execution_count": 23,
   "id": "6e520ffc-09a5-4669-8214-a800b392eaa0",
   "metadata": {},
   "outputs": [
    {
     "name": "stdout",
     "output_type": "stream",
     "text": [
      "\n",
      "Eksik yaş verileri dolduruldu.\n",
      "\n",
      "Eksik Embarked verileri dolduruldu.\n",
      "\n",
      "Eksik Cabin verileri dolduruldu.\n"
     ]
    }
   ],
   "source": [
    "\n",
    "data = data.copy()\n",
    "#age ,cabin ve embared verilerinde eksik var\n",
    "data['Age'].fillna(data['Age'].mean())\n",
    "print(\"\\nEksik yaş verileri dolduruldu.\")\n",
    "\n",
    "#Embarked sütunu yolcuların gemiye bindiği limanları temsil ediyormuş bu nedenle mod ile doldurmak mantıklı olur.\n",
    "data['Embarked'].fillna(data['Embarked'].mode()[0])\n",
    "print(\"\\nEksik Embarked verileri dolduruldu.\")\n",
    "\n",
    "#Cabin sütunu, gemideki yolcuların kaldığı kabin numarasını temsil eder\n",
    "# Çok fazla eksik değeri bulunduğu için unknown ile doldurularak analizi bozmamaya çalışacağım.\n",
    "data['Cabin'].fillna('Unknown')\n",
    "print(\"\\nEksik Cabin verileri dolduruldu.\")\n"
   ]
  },
  {
   "cell_type": "code",
   "execution_count": 25,
   "id": "f397b24b-3519-45c5-81ce-697a568f6673",
   "metadata": {},
   "outputs": [
    {
     "name": "stdout",
     "output_type": "stream",
     "text": [
      "Kadın erkek sayıları: \n",
      "\n",
      "Sex\n",
      "male      577\n",
      "female    314\n",
      "Name: count, dtype: int64\n"
     ]
    }
   ],
   "source": [
    "# Kadın erkek sayıları\n",
    "print(\"Kadın erkek sayıları: \\n\")\n",
    "print(data['Sex'].value_counts())"
   ]
  },
  {
   "cell_type": "code",
   "execution_count": 41,
   "id": "95bf0d8e-09b2-478a-83d4-d3e141ca7c46",
   "metadata": {},
   "outputs": [
    {
     "name": "stdout",
     "output_type": "stream",
     "text": [
      "Hayatta kalma oranı: 38.3838%\n"
     ]
    }
   ],
   "source": [
    " oran=data['Survived'].mean()*100\n",
    "print(f\"Hayatta kalma oranı: {oran:.4f}%\")"
   ]
  },
  {
   "cell_type": "code",
   "execution_count": 71,
   "id": "dcf1e201-c755-46f3-82fd-b5d5237fa2eb",
   "metadata": {},
   "outputs": [
    {
     "data": {
      "image/png": "[encoded data removed]",
      "text/plain": [
       "<Figure size 640x480 with 1 Axes>"
      ]
     },
     "metadata": {},
     "output_type": "display_data"
    }
   ],
   "source": [
    "import seaborn as sns\n",
    "import matplotlib.pyplot as plt\n",
    "\n",
    "#pclass sınıfında olanların hayatta kalma oranlarını hesaplayalım\n",
    "oran2 =data.groupby('Pclass')['Survived'].mean()*100\n",
    "\n",
    "#reset_index() kullanarak Series nesnesini bir DataFrame'e dönüştürüyoruz seaborn kütüphanesi okuyabilsin\n",
    "oran2_df=oran2.reset_index()\n",
    "oran2_df.columns=['Pclass','Survived Rate']\n",
    "\n",
    "oran2_df['Embarked'] = data['Embarked']# oran2_df de embarked olmadığı için eklemeliyiz yoksa hue ekleyemeyiz\n",
    "\n",
    "sns.barplot(x='Pclass',y='Survived Rate', data=oran2_df,hue='Embarked')\n",
    "plt.title('Sınıfa Göre Hayatta Kalma Oranları', fontsize=14)\n",
    "plt.xlabel('Sınıf', fontsize=12)\n",
    "plt.ylabel('Hayatta Kalma Oranı (%)', fontsize=12)\n",
    "plt.xticks(fontsize=10)\n",
    "plt.yticks(fontsize=10)\n",
    "plt.show()\n"
   ]
  },
  {
   "cell_type": "code",
   "execution_count": null,
   "id": "87da96a1-bb57-42b3-8350-dd792fa91b19",
   "metadata": {},
   "outputs": [],
   "source": []
  }
 ],
 "metadata": {
  "kernelspec": {
   "display_name": "Python [conda env:base] *",
   "language": "python",
   "name": "conda-base-py"
  },
  "language_info": {
   "codemirror_mode": {
    "name": "ipython",
    "version": 3
   },
   "file_extension": ".py",
   "mimetype": "text/x-python",
   "name": "python",
   "nbconvert_exporter": "python",
   "pygments_lexer": "ipython3",
   "version": "3.12.7"
  }
 },
 "nbformat": 4,
 "nbformat_minor": 5
}
